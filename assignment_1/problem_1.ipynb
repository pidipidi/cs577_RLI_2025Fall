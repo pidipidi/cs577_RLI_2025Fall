{
  "nbformat": 4,
  "nbformat_minor": 0,
  "metadata": {
    "colab": {
      "provenance": [],
      "include_colab_link": true
    },
    "kernelspec": {
      "name": "python3",
      "display_name": "Python 3"
    },
    "language_info": {
      "name": "python"
    }
  },
  "cells": [
    {
      "cell_type": "markdown",
      "metadata": {
        "id": "view-in-github",
        "colab_type": "text"
      },
      "source": [
        "<a href=\"https://colab.research.google.com/github/pidipidi/cs577_RLI/blob/master/assignment_1/problem_1.ipynb\" target=\"_parent\"><img src=\"https://colab.research.google.com/assets/colab-badge.svg\" alt=\"Open In Colab\"/></a>"
      ]
    },
    {
      "cell_type": "markdown",
      "source": [
        "# Problem 1 - Original Dynamic Movement Primitives (DMPs)\n",
        "\n",
        "\n"
      ],
      "metadata": {
        "id": "DrbsbN3TtXmJ"
      }
    },
    {
      "cell_type": "markdown",
      "source": [
        "## Environment Setup"
      ],
      "metadata": {
        "id": "zDYI5it2g2tP"
      }
    },
    {
      "cell_type": "code",
      "source": [
        "import numpy as np\n",
        "import sys, copy\n",
        "import matplotlib.pyplot as plt"
      ],
      "metadata": {
        "id": "Mnow1rHWiSSp"
      },
      "execution_count": null,
      "outputs": []
    },
    {
      "cell_type": "markdown",
      "source": [
        "## A. Implement the improved DMP and train it with a minimum-jerk trajectory."
      ],
      "metadata": {
        "id": "5bjUeXAKeMj5"
      }
    },
    {
      "cell_type": "markdown",
      "source": [
        "In this problem, you will implement the improved Dynamic Movement Primitives (DMPs) to learn and reproduce a minimum-jerk trajectory.\n",
        "\n",
        "### Minimum-jerk *Trajectory*\n",
        "Your first step is to implement a function that generates a minimum-jerk trajectory. This trajectory will serve as the demonstration data for imitation. Using this demonstration, you will then implement the original DMP formulation to reproduce the trajectory.\n",
        "\n",
        "Let’s start by coding the minimum-jerk trajectory generator. Please place your implementation in the code block below."
      ],
      "metadata": {
        "id": "Crz9Sx6Xeb5z"
      }
    },
    {
      "cell_type": "code",
      "source": [
        "def min_jerk(start, goal, dur, freq=100):\n",
        "    \"\"\"\n",
        "    A function to generate a minimum-jerk trajectory.\n",
        "\n",
        "    Parameters\n",
        "    ----------\n",
        "    start : array\n",
        "        a vector of start position (e.g., np.array([0,0,0]))\n",
        "    goal  : array\n",
        "        a vector of goal position (e.g., np.array([1,2,1]))\n",
        "    dur   : float\n",
        "        time duration of the resulted trajectory\n",
        "    freq  : float\n",
        "        time frequency (Hz)\n",
        "\n",
        "    Returns\n",
        "    -------\n",
        "    time : array\n",
        "           a list of progress from 0 to 1\n",
        "    X    : array\n",
        "           a position trajectory from a start to a goal\n",
        "    Xd   : array\n",
        "           a velocity trajectory\n",
        "    Xdd  : array\n",
        "           an acceleration trajectory\n",
        "    Xddd : array\n",
        "           a jerk trajectory\n",
        "    \"\"\"\n",
        "    if type(start) in [list, tuple]: start = np.array(start)\n",
        "    if type(goal) in [list, tuple]: goal = np.array(goal)\n",
        "\n",
        "    D = len(start) # dimension\n",
        "    P = int(freq * dur) # the number of points\n",
        "\n",
        "    time = []\n",
        "    X  = []\n",
        "    Xd = []\n",
        "    Xdd  = []\n",
        "    Xddd = []\n",
        "    for i in range(P):\n",
        "        # ------------------------------------------------------\n",
        "        # Place your code here\n",
        "        t =\n",
        "\n",
        "        time\n",
        "        X\n",
        "        Xd\n",
        "        Xdd\n",
        "        Xddd\n",
        "        # ------------------------------------------------------\n",
        "\n",
        "    return time, np.array(X), np.array(Xd), np.array(Xdd), np.array(Xddd)"
      ],
      "metadata": {
        "id": "fnSr8ApEiDwU"
      },
      "execution_count": null,
      "outputs": []
    },
    {
      "cell_type": "markdown",
      "source": [
        "Now, let’s verify that the min_jerk function generates a smooth trajectory from the start to the goal. You may enhance the sample code below to create clearer and more informative visualizations."
      ],
      "metadata": {
        "id": "MhGhdyuAiWtJ"
      }
    },
    {
      "cell_type": "code",
      "source": [
        "# start and goal\n",
        "start = np.array([-4.0, 10.0, 4.0])\n",
        "goal  = np.array([4.0, 4.0, 4.0])\n",
        "N,D   = 2, len(start)\n",
        "\n",
        "freq     = 100 #Hz\n",
        "duration = 5.\n",
        "\n",
        "_, trj, trj_vel, trj_acc, trj_jerk = min_jerk(start, goal, duration, freq)\n",
        "\n",
        "# ------------------------------------------------------\n",
        "# Place your code here to visualize the trajectories\n",
        "\n",
        "\n",
        "\n",
        "\n",
        "#for i in range(D):\n",
        "    # position\n",
        "    #ax = fig.add_subplot(D, 4, i*4+1)\n",
        "    #plt.plot( ,  , 'r-', markersize=12)\n",
        "\n",
        "    # velocity\n",
        "    #ax = fig.add_subplot(D, 4, i*4+2)\n",
        "    #plt.plot( ,  , 'r-', markersize=12)\n",
        "\n",
        "    # accerelation\n",
        "    #ax = fig.add_subplot(D, 4, i*4+3)\n",
        "    #plt.plot( ,  , 'r-', markersize=12)\n",
        "\n",
        "    # jerk\n",
        "    #ax = fig.add_subplot(D, 4, i*4+4)\n",
        "    #plt.plot( ,  , 'r-', markersize=12)\n",
        "# ------------------------------------------------------\n",
        "\n",
        "plt.show()\n"
      ],
      "metadata": {
        "id": "NhW2wUS1ikt4"
      },
      "execution_count": null,
      "outputs": []
    },
    {
      "cell_type": "markdown",
      "source": [
        "### Original DMP Formulation\n",
        "\n",
        "Now, let’s formulate the original DMP equations:\n",
        "\n",
        "- **Canonical System:**  \n",
        "  <div align=\"center\">\n",
        "  $\n",
        "  \\tau \\dot{s} = -\\alpha s\n",
        "  $\n",
        "  </div>\n",
        "\n",
        "- **Nonlinear Function:**  \n",
        "  <div align=\"center\">\n",
        "  $\n",
        "  f(s) = \\frac{\\sum_i w_i \\, \\phi_i(s)\\, s}{\\sum_i \\phi_i(s)}\n",
        "  $\n",
        "  </div>  \n",
        "\n",
        "- **Transformation System:**  \n",
        "  <div align=\"center\">\n",
        "  $\n",
        "  \\tau \\dot{v} = K(g - x) - Dv + (g - x_0) f, \\quad \\tau \\dot{x} = v\n",
        "  $\n",
        "  </div>\n",
        "  \n",
        "Based on these equations, please complete the code blocks below to implement the original DMP formulation."
      ],
      "metadata": {
        "id": "kApkrYJmsfC2"
      }
    },
    {
      "cell_type": "code",
      "source": [
        "class OriginalFormulation(object):\n",
        "\n",
        "    def __init__(self, K=50., D=None):\n",
        "        self.K = K\n",
        "        if D is None:\n",
        "            D = 2.0 * np.sqrt(self.K)\n",
        "        self.D = D\n",
        "\n",
        "    def acceleration(self, x, dx, start, goal, tau, f, s):\n",
        "        \"\"\"\n",
        "        Compute the acceleration value of the transformation system\n",
        "        at the phase s.\n",
        "\n",
        "        Return:\n",
        "            ddx float: the value of the acceleration variable at the\n",
        "                       phase s\n",
        "        \"\"\"\n",
        "        #------------------------------------------------------------\n",
        "        # Place your code here\n",
        "        return\n",
        "        #------------------------------------------------------------\n",
        "\n",
        "    def fs(self, x, dx, ddx, start, goal, tau, s):\n",
        "        \"\"\"\n",
        "        Compute the nonlinear term f of the transformation system.\n",
        "\n",
        "        Return:\n",
        "            f float: the value of the nonlinear term at the phase s\n",
        "        \"\"\"\n",
        "        #------------------------------------------------------------\n",
        "        # Place your code here\n",
        "        return\n",
        "        #------------------------------------------------------------"
      ],
      "metadata": {
        "id": "BDasrLp9eCmL"
      },
      "execution_count": null,
      "outputs": []
    },
    {
      "cell_type": "code",
      "source": [
        "class DMPs_discrete(object):\n",
        "\n",
        "    def __init__(self, dims, bfs, dt=.01, tau=1., alpha=14, enable_improved=False, **kwargs):\n",
        "        '''\n",
        "        dims int: number of dynamic motor primitives\n",
        "        bfs int: number of basis functions per DMP\n",
        "        dt float: timestep for simulation\n",
        "        tau float: scales the timestep\n",
        "                   increase tau to make the system execute faster\n",
        "        alpha float: canonical system parameter\n",
        "        '''\n",
        "\n",
        "        self.dmps = dims\n",
        "        self.bfs  = bfs\n",
        "        self.dt   = dt\n",
        "        self.tau  = tau\n",
        "        self.alpha = alpha/2.0\n",
        "        self.alpha_x = alpha\n",
        "\n",
        "        self.prep_centers_and_variances()\n",
        "\n",
        "        if enable_improved is False:\n",
        "            self.formulation = OriginalFormulation()\n",
        "        else:\n",
        "            self.formulation = ImprovedFormulation()\n",
        "\n",
        "        return\n",
        "\n",
        "\n",
        "    def prep_centers_and_variances(self):\n",
        "        '''\n",
        "        Set the centre of the Gaussian basis functions be spaced evenly\n",
        "        throughout run time.\n",
        "        '''\n",
        "        self.c = np.zeros(self.bfs)\n",
        "        self.h = np.zeros(self.bfs)\n",
        "\n",
        "        t = np.linspace(0,1,self.bfs) *0.5\n",
        "\n",
        "        # From DMP matlab code\n",
        "        self.c = np.exp(-self.alpha_x*t)\n",
        "        self.D = (np.diff(self.c)*0.55)**2\n",
        "        self.D = np.append(self.D, self.D[-1])\n",
        "        self.D = 1/self.D\n",
        "        self.h = np.ones(self.bfs)*0.5\n",
        "\n",
        "\n",
        "    def gen_psi(self, x):\n",
        "        '''\n",
        "        Generates the activity of the basis functions for a given state of the\n",
        "        canonical system.\n",
        "\n",
        "        x float: the current state of the canonical system\n",
        "        '''\n",
        "        if isinstance(x, np.ndarray):\n",
        "            x = x[:,None]\n",
        "        return np.exp(-self.h * (x - self.c)**2 * self.D)\n",
        "\n",
        "\n",
        "    def gen_phase(self, n_steps, tau=None):\n",
        "        \"\"\"\n",
        "        Generate phase for open loop movements.\n",
        "\n",
        "        n_steps int: number of steps\n",
        "        \"\"\"\n",
        "        if tau is None: tau = self.tau\n",
        "        return np.exp(-self.alpha/tau * np.linspace(0, 1, n_steps))\n",
        "\n",
        "\n",
        "    def learn(self, y_des):\n",
        "        \"\"\"\n",
        "        Encode a set of weights from the input trajectories.\n",
        "\n",
        "        y_des list/array: the desired trajectories of each DMP\n",
        "                          should be shaped [dmps, run_time]\n",
        "        \"\"\"\n",
        "        # Set variables\n",
        "        n_samples, dims, n_steps = np.shape(y_des)\n",
        "        self.n_steps = n_steps\n",
        "        assert dims==self.dmps, \"wrong dimensions\"\n",
        "\n",
        "        # Get start and goal\n",
        "        self.y0   = np.mean(y_des[:,:,0], axis=0)\n",
        "        self.goal = np.mean(y_des[:,:,-1], axis=0)\n",
        "\n",
        "        # Calculate yd_des, ydd_des\n",
        "        yd_des = np.diff(y_des) / self.dt\n",
        "        yd_des = np.concatenate((np.zeros((n_samples, self.dmps, 1)), yd_des), axis=2)\n",
        "\n",
        "        ydd_des = np.diff(yd_des) / self.dt\n",
        "        ydd_des = np.concatenate((np.zeros((n_samples, self.dmps, 1)), ydd_des), axis=2)\n",
        "\n",
        "        # Get a canonical system\n",
        "        x_track = self.gen_phase(n_steps)\n",
        "\n",
        "        #------------------------------------------------------------\n",
        "        # Place your code here\n",
        "\n",
        "        # Calculate f\n",
        "        f_des =\n",
        "\n",
        "\n",
        "\n",
        "\n",
        "        # Calculate weights\n",
        "        psi_track =\n",
        "\n",
        "        x_track   =\n",
        "        psi_track =\n",
        "        f_des     =\n",
        "        f_des     =\n",
        "\n",
        "        self.w =\n",
        "\n",
        "\n",
        "\n",
        "\n",
        "\n",
        "        #------------------------------------------------------------\n",
        "\n",
        "        # set up tracking vectors\n",
        "        y_track   = np.zeros((self.dmps, n_steps))\n",
        "        yd_track  = np.zeros((self.dmps, n_steps))\n",
        "        ydd_track = np.zeros((self.dmps, n_steps))\n",
        "\n",
        "        y   = self.y0.copy()\n",
        "        yd  = np.zeros(self.dmps)\n",
        "        ydd = np.zeros(self.dmps)\n",
        "\n",
        "        #------------------------------------------------------------\n",
        "        # Place your code here\n",
        "        x_track   =\n",
        "        psi_track =\n",
        "\n",
        "        f =\n",
        "\n",
        "\n",
        "\n",
        "        # Recover the demonstration using the learned weights (for confirmation)\n",
        "        for t in range(n_steps):\n",
        "\n",
        "\n",
        "\n",
        "\n",
        "            # record timestep\n",
        "            y_track[:,t] =\n",
        "            yd_track[:,t] =\n",
        "            ydd_track[:,t] =\n",
        "        #------------------------------------------------------------\n",
        "\n",
        "        return y_track, yd_track, ydd_track\n",
        "\n",
        "\n",
        "    def plan(self, y0=None, goal=None, **kwargs):\n",
        "        '''\n",
        "        Run the DMP system within a specific period.\n",
        "\n",
        "        y0   list/array: start position\n",
        "        goal list/array: goal position\n",
        "        tau  float:      scales the timestep\n",
        "                         increase tau to make the system execute faster\n",
        "        '''\n",
        "\n",
        "        if y0 is None: y0 = self.y0\n",
        "        if goal is None: goal = self.goal\n",
        "        n_steps = int(self.n_steps/self.tau)\n",
        "\n",
        "        # set up tracking vectors\n",
        "        y_track   = np.zeros((self.dmps, n_steps))\n",
        "        yd_track  = np.zeros((self.dmps, n_steps))\n",
        "        ydd_track = np.zeros((self.dmps, n_steps))\n",
        "        x_track   = self.gen_phase(n_steps, self.tau)\n",
        "\n",
        "        #------------------------------------------------------------\n",
        "        # Place your code here\n",
        "        y   =\n",
        "        yd  =\n",
        "        ydd =\n",
        "\n",
        "        for t in range(n_steps):\n",
        "\n",
        "\n",
        "\n",
        "\n",
        "\n",
        "\n",
        "\n",
        "\n",
        "\n",
        "            # record timestep\n",
        "            y_track[:,t] =\n",
        "            yd_track[:,t] =\n",
        "            ydd_track[:,t] =\n",
        "        #------------------------------------------------------------\n",
        "\n",
        "        return y_track, yd_track, ydd_track\n",
        "\n",
        "\n",
        "    def plot_traj(self, trajs_demo, trajs_gen, axis_num=0):\n",
        "        \"\"\"Plot trajectories over an axis \"\"\"\n",
        "\n",
        "        fig = plt.figure()\n",
        "        plt.title('Trajectory (X) - Demo (Td) and generated (Tg)')\n",
        "        for i in range(len(trajs_demo)):\n",
        "            plt.plot(trajs_demo[i,axis_num,:], 'r--', label='Td')\n",
        "        for i in range(len(trajs_gen)):\n",
        "            plt.plot(trajs_gen[i,axis_num,:],'g-', label='Tg')\n",
        "\n",
        "        plt.legend()\n",
        "        plt.show()\n",
        "\n",
        "    def plot_basis(self):\n",
        "        \"\"\"Plot basis functions \"\"\"\n",
        "        fig = plt.figure()\n",
        "\n",
        "        x = self.gen_phase(200)\n",
        "\n",
        "        for idx in range(len(self.c)):\n",
        "            psi = self.gen_psi(x)\n",
        "            plt.plot(x, psi)\n",
        "\n",
        "        plt.show()\n",
        "\n",
        "    def plot_f(self, f, f_des=None):\n",
        "        \"\"\"Plot nonlinear functions \"\"\"\n",
        "\n",
        "        fig = plt.figure()\n",
        "        plt.plot(f)\n",
        "        if f_des is not None:\n",
        "            plt.plot(f_des, '--')\n",
        "        plt.show()\n",
        "\n",
        "    def plot_canonical_sys(self):\n",
        "        \"\"\"Plot the phase change in the canonical system \"\"\"\n",
        "        x = self.gen_phase(200)\n",
        "\n",
        "        fig = plt.figure()\n",
        "        plt.plot(x)\n",
        "        plt.show()"
      ],
      "metadata": {
        "id": "PlAoZgbVeT-J"
      },
      "execution_count": null,
      "outputs": []
    },
    {
      "cell_type": "markdown",
      "source": [
        "### Phase Plots\n",
        "\n",
        "Please, plot phases from the canonical system and your basis functions over phases."
      ],
      "metadata": {
        "id": "YFAOlNbGxvuG"
      }
    },
    {
      "cell_type": "code",
      "source": [
        "def min_jerk_trajs(dims=1, n_samples=10, freq=100, duration=1., add_noise=False):\n",
        "    \"\"\"\n",
        "    Generate a set of minimum-jerk trajectories [n_samples x dims x n_length].\n",
        "\n",
        "    dims   : the dimension of a sample trajectory\n",
        "    n_samples: the number of trajectories\n",
        "    freq     : frequency\n",
        "    duration : time length of trajectories\n",
        "    add_noise: add gaussian noise\n",
        "    \"\"\"\n",
        "    samples = []\n",
        "    for i in range(n_samples):\n",
        "\n",
        "        start = np.zeros(dims)\n",
        "        goal  = np.ones(dims)\n",
        "\n",
        "        if add_noise:\n",
        "            start += np.random.normal(0,0.04,dims)\n",
        "            goal  += np.random.normal(0,0.04,dims)\n",
        "\n",
        "        _, trj, trj_vel, trj_acc, trj_jerk = min_jerk(start, goal, duration, freq)\n",
        "        samples.append(trj.T.tolist())\n",
        "\n",
        "    return np.array(samples)\n",
        "\n",
        "\n",
        "\"\"\"\n",
        "Train a DMP with a min-jerk traj and reproduce the same traj.\n",
        "\"\"\"\n",
        "n_samples = 1\n",
        "dims      = 1\n",
        "bfs       = 20\n",
        "tau       = 1.\n",
        "\n",
        "# Data generation\n",
        "trajs_demo = min_jerk_trajs(dims=dims, n_samples=n_samples)\n",
        "\n",
        "# Learn via DMP original/improved\n",
        "dmp = DMPs_discrete(dims=dims, bfs=bfs, tau=tau)\n",
        "dmp.learn(trajs_demo)\n",
        "\n",
        "# ReProduce a trajectory\n",
        "traj, _, _ = dmp.plan()\n",
        "\n",
        "# Reproduction w/ visualization\n",
        "dmp.plot_traj(trajs_demo, np.expand_dims(traj, axis=0))\n",
        "dmp.plot_basis()"
      ],
      "metadata": {
        "id": "LK3nxsno1qQK"
      },
      "execution_count": null,
      "outputs": []
    },
    {
      "cell_type": "markdown",
      "source": [
        "## B. Adapt the learned DMPs with different goals."
      ],
      "metadata": {
        "id": "VgWDEJlQyVK8"
      }
    },
    {
      "cell_type": "markdown",
      "source": [
        "Extract the learned weights and plot 10 reproduced trajectories ***trajs*** with the demonstrated trajectory, ***trajs_demo***.  "
      ],
      "metadata": {
        "id": "Pz9p2NJgy16P"
      }
    },
    {
      "cell_type": "code",
      "source": [
        "\"\"\"\n",
        "Train a DMP with a min-jerk traj and reproduce it with different goals.\n",
        "\"\"\"\n",
        "n_samples = 1\n",
        "dims      = 1\n",
        "bfs       = 20\n",
        "tau       = 1.\n",
        "\n",
        "# Data generation\n",
        "trajs_demo = min_jerk_trajs(dims=dims, n_samples=n_samples)\n",
        "\n",
        "# Learn via DMP original/improved\n",
        "dmp = DMPs_discrete(dims=dims, bfs=bfs, tau=tau)\n",
        "dmp.learn(trajs_demo)\n",
        "\n",
        "# ReProduce a trajectory\n",
        "y0    = None\n",
        "trajs = []\n",
        "\n",
        "#------------------------------------------------------------\n",
        "# Place your code here\n",
        "for i in range(10):\n",
        "    goal = np.array([1.0*((i-5)/2.0),])\n",
        "    traj\n",
        "    trajs\n",
        "#------------------------------------------------------------\n",
        "\n",
        "# Reproduction w/ visualization\n",
        "dmp.plot_traj(trajs_demo, np.array(trajs))\n"
      ],
      "metadata": {
        "id": "1yJfcQ0AyqsF"
      },
      "execution_count": null,
      "outputs": []
    },
    {
      "cell_type": "markdown",
      "source": [
        "## C. Implement the original DMPs that learn and reproduce multiple minimum-jerk trajectory."
      ],
      "metadata": {
        "id": "Nq2tUUVRzH56"
      }
    },
    {
      "cell_type": "markdown",
      "source": [
        "You must complete a function: learn(). Please, extract the learned\n",
        "weights and plot both demonstrated and reproduced trajectories."
      ],
      "metadata": {
        "id": "F8QTTpS00L8Z"
      }
    },
    {
      "cell_type": "code",
      "source": [
        "\"\"\"\n",
        "Train DMPs with multiple min-jerk trajectories and reproduce\n",
        "the demo with the same goal.\n",
        "\"\"\"\n",
        "n_samples = 10\n",
        "dims      = 2\n",
        "bfs       = 20\n",
        "tau       = 1.\n",
        "\n",
        "# Data generation\n",
        "trajs_demo = min_jerk_trajs(dims=dims, n_samples=n_samples, add_noise=True)\n",
        "\n",
        "# Learn via DMP original/improved\n",
        "dmp = DMPs_discrete(dims=dims, bfs=bfs, tau=tau)\n",
        "dmp.learn(trajs_demo)\n",
        "\n",
        "# ReProduce a trajectory\n",
        "traj, _, _ = dmp.plan()\n",
        "\n",
        "# Reproduction w/ visualization\n",
        "dmp.plot_traj(trajs_demo, np.expand_dims(traj, axis=0))"
      ],
      "metadata": {
        "id": "Y5ZhYttQzXtN"
      },
      "execution_count": null,
      "outputs": []
    },
    {
      "cell_type": "markdown",
      "source": [
        "## D. Adapt the learned DMPs with different goals."
      ],
      "metadata": {
        "id": "14TvwIFPzbGc"
      }
    },
    {
      "cell_type": "markdown",
      "source": [
        "You must complete a function: plan(). Then, plot 10 reproduced trajectories ***trajs*** with a demonstrated trajectory, ***trajs_demo***."
      ],
      "metadata": {
        "id": "6KcHF5RX0Hfn"
      }
    },
    {
      "cell_type": "code",
      "source": [
        "\"\"\"\n",
        "Train DMPs with multiple min-jerk trajectories and reproduce\n",
        "the demo with different goals.\n",
        "\"\"\"\n",
        "n_samples = 10\n",
        "dims      = 2\n",
        "bfs       = 20\n",
        "tau       = 1.\n",
        "\n",
        "# Data generation\n",
        "trajs_demo = min_jerk_trajs(dims=dims, n_samples=n_samples, add_noise=True)\n",
        "\n",
        "# Learn via DMP original/improved\n",
        "dmp = DMPs_discrete(dims=dims, bfs=bfs, tau=tau)\n",
        "dmp.learn(trajs_demo)\n",
        "\n",
        "# ReProduce a trajectory\n",
        "y0    = None\n",
        "trajs = []\n",
        "\n",
        "#------------------------------------------------------------\n",
        "# Place your code here\n",
        "for i in range(10):\n",
        "    goal = np.array([1.0*((i-5)/2.0), 1.0*((i-5)/2.0)])\n",
        "    traj\n",
        "    trajs\n",
        "#------------------------------------------------------------\n",
        "\n",
        "# Reproduction w/ visualization\n",
        "dmp.plot_traj(trajs_demo, np.array(trajs))"
      ],
      "metadata": {
        "id": "yATtHaoNz1ee"
      },
      "execution_count": null,
      "outputs": []
    },
    {
      "cell_type": "markdown",
      "source": [
        "## [Advanced] you can try to use handwriting dataset instead of the minimum-jerk trajectory."
      ],
      "metadata": {
        "id": "-74rpi8YgmzO"
      }
    },
    {
      "cell_type": "markdown",
      "source": [
        " you can try to use handwriting dataset instead of the minimum-jerk trajectory. Please, Check https://cs.stanford.edu/people/khansari/download.html"
      ],
      "metadata": {
        "id": "iqn49h8v0Bk4"
      }
    },
    {
      "cell_type": "code",
      "source": [],
      "metadata": {
        "id": "DsiJR3iVz5UR"
      },
      "execution_count": null,
      "outputs": []
    }
  ]
}